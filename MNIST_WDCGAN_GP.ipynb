{
 "cells": [
  {
   "cell_type": "code",
   "execution_count": 1,
   "metadata": {},
   "outputs": [],
   "source": [
    "import numpy as np\n",
    "import torch\n",
    "import torch.nn as nn\n",
    "import torch.nn.functional as F\n",
    "import torch.optim as optim\n",
    "from torch.autograd import Variable\n",
    "import matplotlib.pyplot as plt\n",
    "import torchvision\n",
    "import torchvision.transforms as transforms\n",
    "from torch.autograd import grad as torch_grad"
   ]
  },
  {
   "cell_type": "code",
   "execution_count": 2,
   "metadata": {},
   "outputs": [],
   "source": [
    "def normal_init(m, mean, std):\n",
    "    if isinstance(m, nn.ConvTranspose2d) or isinstance(m, nn.Conv2d):\n",
    "        m.weight.data.normal_(mean, std)\n",
    "        m.bias.data.zero_()"
   ]
  },
  {
   "cell_type": "markdown",
   "metadata": {},
   "source": [
    "# Design Generator and Dicriminator"
   ]
  },
  {
   "cell_type": "code",
   "execution_count": 3,
   "metadata": {},
   "outputs": [],
   "source": [
    "class Generator(nn.Module):\n",
    "    \"\"\"docstring for Generator.\"\"\"\n",
    "    def __init__(self):\n",
    "        super(Generator, self).__init__()\n",
    "        self.d = 128\n",
    "        self.Tconv1 = nn.ConvTranspose2d(100, self.d * 8, 4, 1, 0) #(batch, 4, 4, 1024)\n",
    "        self.batch1 = nn.BatchNorm2d(self.d * 8)\n",
    "        self.Tconv2 = nn.ConvTranspose2d(self.d * 8, self.d * 4, kernel_size=4, stride=2, padding=1) #(B, 8, 8, 512)\n",
    "        self.batch2 = nn.BatchNorm2d(self.d * 4)\n",
    "        self.Tconv3 = nn.ConvTranspose2d(self.d * 4, self.d * 2, kernel_size=4, stride=2, padding=1) #(B, 16, 16, 256)\n",
    "        self.batch3 = nn.BatchNorm2d(self.d * 2)\n",
    "        self.Tconv4 = nn.ConvTranspose2d(self.d * 2, self.d, kernel_size=4, stride=2, padding=1) #(B, 32, 32, 256)\n",
    "        self.batch4 = nn.BatchNorm2d(self.d)\n",
    "        self.Tconv5 = nn.ConvTranspose2d(self.d, 1, kernel_size=4, stride=2, padding=1) #(B, 64, 64, 256)\n",
    "        \n",
    "        \n",
    "    def forward(self, z):\n",
    "        z_conv = F.relu(self.batch1(self.Tconv1(z)))\n",
    "        z_conv = F.relu(self.batch2(self.Tconv2(z_conv)))\n",
    "        z_conv = F.relu(self.batch3(self.Tconv3(z_conv)))\n",
    "        z_conv = F.relu(self.batch4(self.Tconv4(z_conv)))\n",
    "        z_conv = F.tanh(self.Tconv5(z_conv))\n",
    "        return z_conv\n",
    "    \n",
    "    # weight_init\n",
    "    def weight_init(self, mean, std):\n",
    "        for m in self._modules:\n",
    "            normal_init(self._modules[m], mean, std)\n",
    "\n",
    "class Discriminator(nn.Module):\n",
    "    \"\"\"docstring for Discriminator.\"\"\"\n",
    "    def __init__(self):\n",
    "        super(Discriminator, self).__init__()\n",
    "        self.d = 128\n",
    "        self.conv2D1 = nn.Conv2d(1, self.d, kernel_size=4, stride=2, padding=1)\n",
    "        self.conv2D2 = nn.Conv2d(self.d, self.d * 2, kernel_size=4, stride=2, padding=1)\n",
    "        self.batch2 = nn.BatchNorm2d(self.d * 2)\n",
    "        self.conv2D3 = nn.Conv2d(self.d * 2, self.d * 4, kernel_size=4, stride=2, padding=1)\n",
    "        self.batch3 = nn.BatchNorm2d(self.d*4)\n",
    "        self.conv2D4 = nn.Conv2d(self.d * 4, self.d * 8, kernel_size=4, stride=2, padding=1)\n",
    "        self.batch4 = nn.BatchNorm2d(self.d * 8)\n",
    "        self.conv2D5 = nn.Conv2d(self.d * 8, 1, kernel_size=4, stride=2, padding=0)\n",
    "\n",
    "    def forward(self, x):\n",
    "        x_conv = F.leaky_relu(self.conv2D1(x), 0.2)\n",
    "        x_conv = F.leaky_relu(self.batch2(self.conv2D2(x_conv)), 0.2)\n",
    "        x_conv = F.leaky_relu(self.batch3(self.conv2D3(x_conv)), 0.2)\n",
    "        x_conv = F.leaky_relu(self.batch4(self.conv2D4(x_conv)), 0.2)\n",
    "        pred = F.sigmoid(self.conv2D5(x_conv))\n",
    "        return pred\n",
    "    \n",
    "    # weight_init\n",
    "    def weight_init(self, mean, std):\n",
    "        for m in self._modules:\n",
    "            normal_init(self._modules[m], mean, std)\n",
    "\n",
    "def calc_gradient_penalty(D, real_data, generated_data, LAMDA):\n",
    "    batch_size = real_data.size()[0]\n",
    "    use_cuda = True\n",
    "    \n",
    "    # Calculate interpolation\n",
    "    alpha = torch.rand(batch_size, 1, 1, 1)\n",
    "    alpha = alpha.expand_as(real_data)\n",
    "    if use_cuda:\n",
    "        alpha = alpha.cuda()\n",
    "    interpolated = alpha * real_data.data + (1 - alpha) * generated_data.data\n",
    "    interpolated = Variable(interpolated, requires_grad=True)\n",
    "    \n",
    "    if use_cuda:\n",
    "        interpolated = interpolated.cuda()\n",
    "    # Calculate probability of interpolated examples\n",
    "    prob_interpolated = D(interpolated)\n",
    "    # Calculate gradients of probabilities with respect to examples\n",
    "    gradients = torch_grad(outputs=prob_interpolated, inputs=interpolated,\n",
    "                            grad_outputs=torch.ones(prob_interpolated.size()).cuda() if use_cuda else torch.ones(\n",
    "                            prob_interpolated.size()),\n",
    "                            create_graph=True, retain_graph=True)[0]\n",
    "    \n",
    "    # Gradients have shape (batch_size, num_channels, img_width, img_height),\n",
    "    # so flatten to easily take norm per example in batch\n",
    "    gradients = gradients.view(batch_size, -1)\n",
    "\n",
    "\n",
    "    # Derivatives of the gradient close to 0 can cause problems because of\n",
    "    # the square root, so manually calculate norm and add epsilon\n",
    "    gradients_norm = torch.sqrt(torch.sum(gradients ** 2, dim=1) + 1e-12)\n",
    "    # Return gradient penalty\n",
    "    return LAMDA * ((gradients_norm - 1) ** 2).mean()"
   ]
  },
  {
   "cell_type": "markdown",
   "metadata": {},
   "source": [
    "# Test Generator and Discriminator"
   ]
  },
  {
   "cell_type": "code",
   "execution_count": 4,
   "metadata": {},
   "outputs": [
    {
     "name": "stdout",
     "output_type": "stream",
     "text": [
      "torch.Size([100, 1, 64, 64])\n"
     ]
    }
   ],
   "source": [
    "z = torch.randn(100, 100).view(100, 100, 1, 1)    # fixed noise\n",
    "z = Variable(z)\n",
    "generator_test = Generator()\n",
    "z_conv = generator_test.forward(z)\n",
    "print(z_conv.size())"
   ]
  },
  {
   "cell_type": "code",
   "execution_count": 5,
   "metadata": {},
   "outputs": [
    {
     "name": "stdout",
     "output_type": "stream",
     "text": [
      "torch.Size([100, 1, 1, 1])\n"
     ]
    }
   ],
   "source": [
    "discrimintaor_test = Discriminator()\n",
    "pred_z_conv = discrimintaor_test(z_conv)\n",
    "print(pred_z_conv.size())"
   ]
  },
  {
   "cell_type": "markdown",
   "metadata": {},
   "source": [
    "# Load dataset"
   ]
  },
  {
   "cell_type": "code",
   "execution_count": 6,
   "metadata": {},
   "outputs": [],
   "source": [
    "# MNIST dataset\n",
    "\n",
    "#transform = transforms.Compose(\n",
    "#    [torchvision.transforms.Resize((64, 64)),\n",
    "#        transforms.ToTensor()],)\n",
    "\n",
    "transform = transforms.Compose([\n",
    "        transforms.Resize((64, 64)),\n",
    "        transforms.ToTensor(),\n",
    "        transforms.Normalize(mean=(0.5, 0.5, 0.5), std=(0.5, 0.5, 0.5))\n",
    "])\n",
    "\n",
    "dataset = torchvision.datasets.MNIST(root='./data',\n",
    "                         train=True,\n",
    "                         transform=transform,\n",
    "                         download=True)\n",
    "\n",
    "# Data loader\n",
    "data_loader = torch.utils.data.DataLoader(dataset=dataset,\n",
    "                                          batch_size=128, \n",
    "                                          shuffle=True)"
   ]
  },
  {
   "cell_type": "markdown",
   "metadata": {},
   "source": [
    "# Test on images"
   ]
  },
  {
   "cell_type": "code",
   "execution_count": 7,
   "metadata": {},
   "outputs": [
    {
     "name": "stdout",
     "output_type": "stream",
     "text": [
      "torch.Size([128, 1, 64, 64])\n"
     ]
    },
    {
     "data": {
      "image/png": "[encoded data removed]",
      "text/plain": [
       "<Figure size 432x288 with 1 Axes>"
      ]
     },
     "metadata": {},
     "output_type": "display_data"
    }
   ],
   "source": [
    "# get some random training images\n",
    "dataiter = iter(data_loader)\n",
    "images, labels = dataiter.next()\n",
    "print(images.size())\n",
    "def imshow(img):\n",
    "    img = img / 2 + 0.5     # unnormalize\n",
    "    npimg = img.numpy()\n",
    "    plt.imshow(np.transpose(npimg, (1, 2, 0)))\n",
    "\n",
    "# show images\n",
    "imshow(torchvision.utils.make_grid(images))\n",
    "plt.show()"
   ]
  },
  {
   "cell_type": "code",
   "execution_count": 8,
   "metadata": {},
   "outputs": [
    {
     "name": "stdout",
     "output_type": "stream",
     "text": [
      "torch.Size([128, 1, 64, 64])\n",
      "torch.Size([128, 1, 1, 1])\n"
     ]
    }
   ],
   "source": [
    "img = Variable(images)\n",
    "print(img.size())\n",
    "pred_img_conv = discrimintaor_test(img)\n",
    "print(pred_img_conv.size())"
   ]
  },
  {
   "cell_type": "code",
   "execution_count": 9,
   "metadata": {},
   "outputs": [
    {
     "name": "stdout",
     "output_type": "stream",
     "text": [
      "torch.Size([128, 1, 64, 64])\n",
      "torch.Size([128, 1, 1, 1])\n"
     ]
    }
   ],
   "source": [
    "img = Variable(images)\n",
    "print(img.size())\n",
    "pred_img_conv = discrimintaor_test(img)\n",
    "print(pred_img_conv.size())"
   ]
  },
  {
   "cell_type": "markdown",
   "metadata": {},
   "source": [
    "# Design model"
   ]
  },
  {
   "cell_type": "code",
   "execution_count": 10,
   "metadata": {},
   "outputs": [],
   "source": [
    "def extract(v):\n",
    "    return v.data.storage().tolist()\n",
    "d_learning_rate = 0.0001\n",
    "g_learning_rate = 0.0001\n",
    "n_epoch = 20"
   ]
  },
  {
   "cell_type": "code",
   "execution_count": 11,
   "metadata": {},
   "outputs": [],
   "source": [
    "#Define network\n",
    "G = Generator()\n",
    "D = Discriminator()\n",
    "G.cuda()\n",
    "D.cuda()\n",
    "G.weight_init(mean=0.0, std=0.02)\n",
    "D.weight_init(mean=0.0, std=0.02)\n",
    "\n",
    "#Define Learning\n",
    "d_optimizer = optim.Adam(D.parameters(), lr=d_learning_rate, betas=(0, 0.9))\n",
    "g_optimizer = optim.Adam(G.parameters(), lr=g_learning_rate, betas=(0, 0.9))\n",
    "G_loss = []\n",
    "D_loss = []\n",
    "\n",
    "n_critic = 5\n",
    "LAMBDA = 10"
   ]
  },
  {
   "cell_type": "markdown",
   "metadata": {},
   "source": [
    "# Training"
   ]
  },
  {
   "cell_type": "code",
   "execution_count": 12,
   "metadata": {},
   "outputs": [
    {
     "name": "stdout",
     "output_type": "stream",
     "text": [
      "1: D: -0.0004929900169372559 G: -0.9999995827674866 \n",
      "2: D: -0.9999996423721313 G: -0.9999980926513672 \n"
     ]
    },
    {
     "ename": "KeyboardInterrupt",
     "evalue": "",
     "output_type": "error",
     "traceback": [
      "\u001b[0;31m---------------------------------------------------------------------------\u001b[0m",
      "\u001b[0;31mKeyboardInterrupt\u001b[0m                         Traceback (most recent call last)",
      "\u001b[0;32m<ipython-input-12-b403af37d64e>\u001b[0m in \u001b[0;36m<module>\u001b[0;34m()\u001b[0m\n\u001b[1;32m     34\u001b[0m         \u001b[0mg_optimizer\u001b[0m\u001b[0;34m.\u001b[0m\u001b[0mstep\u001b[0m\u001b[0;34m(\u001b[0m\u001b[0;34m)\u001b[0m\u001b[0;34m\u001b[0m\u001b[0m\n\u001b[1;32m     35\u001b[0m \u001b[0;34m\u001b[0m\u001b[0m\n\u001b[0;32m---> 36\u001b[0;31m         \u001b[0mG_loss\u001b[0m\u001b[0;34m.\u001b[0m\u001b[0mappend\u001b[0m\u001b[0;34m(\u001b[0m\u001b[0mextract\u001b[0m\u001b[0;34m(\u001b[0m\u001b[0mg_err\u001b[0m\u001b[0;34m)\u001b[0m\u001b[0;34m[\u001b[0m\u001b[0;36m0\u001b[0m\u001b[0;34m]\u001b[0m\u001b[0;34m)\u001b[0m\u001b[0;34m\u001b[0m\u001b[0m\n\u001b[0m\u001b[1;32m     37\u001b[0m         \u001b[0mD_loss\u001b[0m\u001b[0;34m.\u001b[0m\u001b[0mappend\u001b[0m\u001b[0;34m(\u001b[0m\u001b[0mextract\u001b[0m\u001b[0;34m(\u001b[0m\u001b[0mreal_err\u001b[0m \u001b[0;34m-\u001b[0m \u001b[0mfake_err\u001b[0m\u001b[0;34m)\u001b[0m\u001b[0;34m[\u001b[0m\u001b[0;36m0\u001b[0m\u001b[0;34m]\u001b[0m\u001b[0;34m)\u001b[0m\u001b[0;34m\u001b[0m\u001b[0m\n\u001b[1;32m     38\u001b[0m \u001b[0;34m\u001b[0m\u001b[0m\n",
      "\u001b[0;32m<ipython-input-10-097a6b3e8add>\u001b[0m in \u001b[0;36mextract\u001b[0;34m(v)\u001b[0m\n\u001b[1;32m      1\u001b[0m \u001b[0;32mdef\u001b[0m \u001b[0mextract\u001b[0m\u001b[0;34m(\u001b[0m\u001b[0mv\u001b[0m\u001b[0;34m)\u001b[0m\u001b[0;34m:\u001b[0m\u001b[0;34m\u001b[0m\u001b[0m\n\u001b[0;32m----> 2\u001b[0;31m     \u001b[0;32mreturn\u001b[0m \u001b[0mv\u001b[0m\u001b[0;34m.\u001b[0m\u001b[0mdata\u001b[0m\u001b[0;34m.\u001b[0m\u001b[0mstorage\u001b[0m\u001b[0;34m(\u001b[0m\u001b[0;34m)\u001b[0m\u001b[0;34m.\u001b[0m\u001b[0mtolist\u001b[0m\u001b[0;34m(\u001b[0m\u001b[0;34m)\u001b[0m\u001b[0;34m\u001b[0m\u001b[0m\n\u001b[0m\u001b[1;32m      3\u001b[0m \u001b[0md_learning_rate\u001b[0m \u001b[0;34m=\u001b[0m \u001b[0;36m0.0001\u001b[0m\u001b[0;34m\u001b[0m\u001b[0m\n\u001b[1;32m      4\u001b[0m \u001b[0mg_learning_rate\u001b[0m \u001b[0;34m=\u001b[0m \u001b[0;36m0.0001\u001b[0m\u001b[0;34m\u001b[0m\u001b[0m\n\u001b[1;32m      5\u001b[0m \u001b[0mn_epoch\u001b[0m \u001b[0;34m=\u001b[0m \u001b[0;36m20\u001b[0m\u001b[0;34m\u001b[0m\u001b[0m\n",
      "\u001b[0;32m/local/kfatras/miniconda3/lib/python3.6/site-packages/torch/storage.py\u001b[0m in \u001b[0;36mtolist\u001b[0;34m(self)\u001b[0m\n\u001b[1;32m     40\u001b[0m     \u001b[0;32mdef\u001b[0m \u001b[0mtolist\u001b[0m\u001b[0;34m(\u001b[0m\u001b[0mself\u001b[0m\u001b[0;34m)\u001b[0m\u001b[0;34m:\u001b[0m\u001b[0;34m\u001b[0m\u001b[0m\n\u001b[1;32m     41\u001b[0m         \u001b[0;34m\"\"\"Returns a list containing the elements of this storage\"\"\"\u001b[0m\u001b[0;34m\u001b[0m\u001b[0m\n\u001b[0;32m---> 42\u001b[0;31m         \u001b[0;32mreturn\u001b[0m \u001b[0;34m[\u001b[0m\u001b[0mv\u001b[0m \u001b[0;32mfor\u001b[0m \u001b[0mv\u001b[0m \u001b[0;32min\u001b[0m \u001b[0mself\u001b[0m\u001b[0;34m]\u001b[0m\u001b[0;34m\u001b[0m\u001b[0m\n\u001b[0m\u001b[1;32m     43\u001b[0m \u001b[0;34m\u001b[0m\u001b[0m\n\u001b[1;32m     44\u001b[0m     \u001b[0;32mdef\u001b[0m \u001b[0mcpu\u001b[0m\u001b[0;34m(\u001b[0m\u001b[0mself\u001b[0m\u001b[0;34m)\u001b[0m\u001b[0;34m:\u001b[0m\u001b[0;34m\u001b[0m\u001b[0m\n",
      "\u001b[0;32m/local/kfatras/miniconda3/lib/python3.6/site-packages/torch/storage.py\u001b[0m in \u001b[0;36m<listcomp>\u001b[0;34m(.0)\u001b[0m\n\u001b[1;32m     40\u001b[0m     \u001b[0;32mdef\u001b[0m \u001b[0mtolist\u001b[0m\u001b[0;34m(\u001b[0m\u001b[0mself\u001b[0m\u001b[0;34m)\u001b[0m\u001b[0;34m:\u001b[0m\u001b[0;34m\u001b[0m\u001b[0m\n\u001b[1;32m     41\u001b[0m         \u001b[0;34m\"\"\"Returns a list containing the elements of this storage\"\"\"\u001b[0m\u001b[0;34m\u001b[0m\u001b[0m\n\u001b[0;32m---> 42\u001b[0;31m         \u001b[0;32mreturn\u001b[0m \u001b[0;34m[\u001b[0m\u001b[0mv\u001b[0m \u001b[0;32mfor\u001b[0m \u001b[0mv\u001b[0m \u001b[0;32min\u001b[0m \u001b[0mself\u001b[0m\u001b[0;34m]\u001b[0m\u001b[0;34m\u001b[0m\u001b[0m\n\u001b[0m\u001b[1;32m     43\u001b[0m \u001b[0;34m\u001b[0m\u001b[0m\n\u001b[1;32m     44\u001b[0m     \u001b[0;32mdef\u001b[0m \u001b[0mcpu\u001b[0m\u001b[0;34m(\u001b[0m\u001b[0mself\u001b[0m\u001b[0;34m)\u001b[0m\u001b[0;34m:\u001b[0m\u001b[0;34m\u001b[0m\u001b[0m\n",
      "\u001b[0;32m/local/kfatras/miniconda3/lib/python3.6/site-packages/torch/storage.py\u001b[0m in \u001b[0;36m<lambda>\u001b[0;34m(i)\u001b[0m\n\u001b[1;32m     15\u001b[0m \u001b[0;34m\u001b[0m\u001b[0m\n\u001b[1;32m     16\u001b[0m     \u001b[0;32mdef\u001b[0m \u001b[0m__iter__\u001b[0m\u001b[0;34m(\u001b[0m\u001b[0mself\u001b[0m\u001b[0;34m)\u001b[0m\u001b[0;34m:\u001b[0m\u001b[0;34m\u001b[0m\u001b[0m\n\u001b[0;32m---> 17\u001b[0;31m         \u001b[0;32mreturn\u001b[0m \u001b[0miter\u001b[0m\u001b[0;34m(\u001b[0m\u001b[0mmap\u001b[0m\u001b[0;34m(\u001b[0m\u001b[0;32mlambda\u001b[0m \u001b[0mi\u001b[0m\u001b[0;34m:\u001b[0m \u001b[0mself\u001b[0m\u001b[0;34m[\u001b[0m\u001b[0mi\u001b[0m\u001b[0;34m]\u001b[0m\u001b[0;34m,\u001b[0m \u001b[0mrange\u001b[0m\u001b[0;34m(\u001b[0m\u001b[0mself\u001b[0m\u001b[0;34m.\u001b[0m\u001b[0msize\u001b[0m\u001b[0;34m(\u001b[0m\u001b[0;34m)\u001b[0m\u001b[0;34m)\u001b[0m\u001b[0;34m)\u001b[0m\u001b[0;34m)\u001b[0m\u001b[0;34m\u001b[0m\u001b[0m\n\u001b[0m\u001b[1;32m     18\u001b[0m \u001b[0;34m\u001b[0m\u001b[0m\n\u001b[1;32m     19\u001b[0m     \u001b[0;32mdef\u001b[0m \u001b[0m__copy__\u001b[0m\u001b[0;34m(\u001b[0m\u001b[0mself\u001b[0m\u001b[0;34m)\u001b[0m\u001b[0;34m:\u001b[0m\u001b[0;34m\u001b[0m\u001b[0m\n",
      "\u001b[0;31mKeyboardInterrupt\u001b[0m: "
     ]
    }
   ],
   "source": [
    "for epoch in range(n_epoch):\n",
    "    for i, data in enumerate(data_loader):\n",
    "        for _ in range(n_critic):\n",
    "            D.zero_grad()\n",
    "\n",
    "            #Compute gradient fake data\n",
    "            img, _ = data\n",
    "            batch_size = img.size()[0]\n",
    "            real_data = Variable(img.cuda())\n",
    "            real_err = torch.mean(D(real_data))\n",
    "\n",
    "            #compute grad fake data\n",
    "            z = torch.randn(batch_size, 100).view(batch_size, 100, 1, 1) \n",
    "            d_noise = Variable(z.cuda(), volatile = False) \n",
    "            fake_output = G(d_noise).detach()\n",
    "            fake_err = torch.mean(D(fake_output))\n",
    "\n",
    "            gradient_penalty = calc_gradient_penalty(D, real_data.data, fake_output.data, LAMBDA)\n",
    "            \n",
    "            d_err = -(real_err - fake_err - gradient_penalty) #minimize the opposite function\n",
    "            d_err.backward()\n",
    "            d_optimizer.step()\n",
    "            # Weight Clipping\n",
    "            #for param in D.parameters():\n",
    "                #param.data.clamp_(-0.01, 0.01)\n",
    "\n",
    "        G.zero_grad()\n",
    "\n",
    "        z = torch.randn(batch_size, 100).view(batch_size, 100, 1, 1)     # fixed noise\n",
    "        g_noise = Variable(z.cuda())\n",
    "        g_fake_data = G(g_noise)\n",
    "        g_err = -torch.mean(D(g_fake_data))\n",
    "        g_err.backward()\n",
    "        g_optimizer.step()\n",
    "        \n",
    "        G_loss.append(extract(g_err)[0])\n",
    "        D_loss.append(extract(real_err - fake_err)[0])\n",
    "\n",
    "\n",
    "\n",
    "    print(\"%s: D: %s G: %s \" % (epoch + 1,\n",
    "                                        extract(real_err - fake_err)[0],\n",
    "                                        extract(g_err)[0],\n",
    "                                        ))"
   ]
  },
  {
   "cell_type": "markdown",
   "metadata": {},
   "source": [
    "# Results"
   ]
  },
  {
   "cell_type": "code",
   "execution_count": null,
   "metadata": {},
   "outputs": [],
   "source": [
    "w=10\n",
    "h=10\n",
    "fig=plt.figure(figsize=(8, 8))\n",
    "columns = 4\n",
    "rows = 5\n",
    "for i in range(1, columns*rows +1):\n",
    "    z = torch.randn((128, 100)).view(128, 100, 1, 1)     # fixed noise\n",
    "    z = Variable(z.cuda())\n",
    "    images = G(z)\n",
    "    img = images.cpu().data\n",
    "    fig.add_subplot(rows, columns, i)\n",
    "    imshow(torchvision.utils.make_grid(img[0].view(64,64)))\n",
    "plt.show()\n",
    "fig.savefig('WDCGAN_20epochs.png', bbox_inches='tight')"
   ]
  },
  {
   "cell_type": "code",
   "execution_count": null,
   "metadata": {},
   "outputs": [],
   "source": [
    "z = torch.randn((128, 100)).view(128, 100, 1, 1)     # fixed noise\n",
    "z = Variable(z.cuda())\n",
    "images = G(z)\n",
    "img = images.cpu().data\n",
    "imshow(torchvision.utils.make_grid(img[0].view(64,64)))\n",
    "plt.show()"
   ]
  },
  {
   "cell_type": "code",
   "execution_count": null,
   "metadata": {},
   "outputs": [],
   "source": [
    "absc = np.linspace(0, len(G_loss), len(G_loss))\n",
    "fig=plt.figure(figsize=(15, 7))\n",
    "plt.plot(absc, G_loss, label = \"G_loss\")\n",
    "plt.plot(absc, D_loss, label = \"D_loss\")\n",
    "plt.title(\"Losses evolution\")\n",
    "plt.ylabel(\"Loss value\")\n",
    "plt.xlabel(\"Iterations(%batch_size)\")\n",
    "plt.legend()\n",
    "plt.show()\n",
    "fig.savefig('loss_WDCGAN_20epochs.png', bbox_inches='tight')"
   ]
  },
  {
   "cell_type": "code",
   "execution_count": null,
   "metadata": {},
   "outputs": [],
   "source": []
  }
 ],
 "metadata": {
  "kernelspec": {
   "display_name": "Python 3",
   "language": "python",
   "name": "python3"
  },
  "language_info": {
   "codemirror_mode": {
    "name": "ipython",
    "version": 3
   },
   "file_extension": ".py",
   "mimetype": "text/x-python",
   "name": "python",
   "nbconvert_exporter": "python",
   "pygments_lexer": "ipython3",
   "version": "3.6.5"
  }
 },
 "nbformat": 4,
 "nbformat_minor": 2
}
